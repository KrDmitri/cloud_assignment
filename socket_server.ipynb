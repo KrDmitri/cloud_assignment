{
 "cells": [
  {
   "cell_type": "code",
   "execution_count": 1,
   "id": "e0be7a44-9e36-4459-9f62-ddf82df54ecf",
   "metadata": {},
   "outputs": [],
   "source": [
    "from http.server import BaseHTTPRequestHandler, HTTPServer"
   ]
  },
  {
   "cell_type": "code",
   "execution_count": 2,
   "id": "de5646c8-4e6f-45e3-a8c2-960c0d810035",
   "metadata": {},
   "outputs": [],
   "source": [
    "dictionary = {\n",
    "    \"apple\" : \"사과\",\n",
    "    \"banana\" : \"바나나\",\n",
    "    \"can\" : \"캔\",\n",
    "}"
   ]
  },
  {
   "cell_type": "code",
   "execution_count": 3,
   "id": "32e34828-a854-4b04-befd-da72b753d8fe",
   "metadata": {},
   "outputs": [],
   "source": [
    "class RequestHandler(BaseHTTPRequestHandler):\n",
    "    def do_GET(self):\n",
    "        # 요청 경로에서 단어 추출\n",
    "        word = self.path.strip('/')\n",
    "\n",
    "        temp = list(word.split('/'))\n",
    "        word = temp[1]\n",
    "        print(\"requested word: \" + word)\n",
    "\n",
    "        if word in dictionary:\n",
    "            meaning = dictionary[word]\n",
    "        else:\n",
    "            meaning = \"사전에 없는 단어입니다.\"\n",
    "        \n",
    "        self.send_response(200)\n",
    "        self.send_header('Content-type', 'text/plain')\n",
    "        self.send_header('Access-Control-Allow-Origin', '*')\n",
    "        self.end_headers()\n",
    "        self.wfile.write(meaning.encode())\n",
    "\n",
    "def run(server_class=HTTPServer, handler_class=RequestHandler, port=80):\n",
    "    server_address = ('', port)\n",
    "    httpd = server_class(server_address, handler_class)\n",
    "    print(f\"Starting server on port {port}...\")\n",
    "    httpd.serve_forever()\n"
   ]
  },
  {
   "cell_type": "code",
   "execution_count": null,
   "id": "5d5e8dbd-7fcb-4383-8610-3a4fe3c0c82f",
   "metadata": {},
   "outputs": [
    {
     "name": "stdout",
     "output_type": "stream",
     "text": [
      "Starting server on port 80...\n",
      "requested word: apple\n"
     ]
    },
    {
     "name": "stderr",
     "output_type": "stream",
     "text": [
      "127.0.0.1 - - [11/Apr/2024 18:08:28] \"GET /meaning_of_eng/apple HTTP/1.1\" 200 -\n"
     ]
    },
    {
     "name": "stdout",
     "output_type": "stream",
     "text": [
      "requested word: apple\n"
     ]
    },
    {
     "name": "stderr",
     "output_type": "stream",
     "text": [
      "127.0.0.1 - - [11/Apr/2024 18:08:36] \"GET /meaning_of_eng/apple HTTP/1.1\" 200 -\n"
     ]
    },
    {
     "name": "stdout",
     "output_type": "stream",
     "text": [
      "requested word: apple\n"
     ]
    },
    {
     "name": "stderr",
     "output_type": "stream",
     "text": [
      "127.0.0.1 - - [11/Apr/2024 18:09:25] \"GET /meaning_of_eng/apple HTTP/1.1\" 200 -\n"
     ]
    },
    {
     "name": "stdout",
     "output_type": "stream",
     "text": [
      "requested word: apple\n"
     ]
    },
    {
     "name": "stderr",
     "output_type": "stream",
     "text": [
      "127.0.0.1 - - [11/Apr/2024 18:09:54] \"GET /meaning_of_eng/apple HTTP/1.1\" 200 -\n"
     ]
    },
    {
     "name": "stdout",
     "output_type": "stream",
     "text": [
      "requested word: asd\n"
     ]
    },
    {
     "name": "stderr",
     "output_type": "stream",
     "text": [
      "127.0.0.1 - - [11/Apr/2024 18:09:58] \"GET /meaning_of_eng/asd HTTP/1.1\" 200 -\n"
     ]
    },
    {
     "name": "stdout",
     "output_type": "stream",
     "text": [
      "requested word: apple\n"
     ]
    },
    {
     "name": "stderr",
     "output_type": "stream",
     "text": [
      "127.0.0.1 - - [11/Apr/2024 18:10:15] \"GET /meaning_of_eng/apple HTTP/1.1\" 200 -\n"
     ]
    }
   ],
   "source": [
    "run()"
   ]
  },
  {
   "cell_type": "code",
   "execution_count": null,
   "id": "4480ae47-e6fb-4dee-9798-28ae404780c9",
   "metadata": {},
   "outputs": [],
   "source": []
  }
 ],
 "metadata": {
  "kernelspec": {
   "display_name": "Python 3 (ipykernel)",
   "language": "python",
   "name": "python3"
  },
  "language_info": {
   "codemirror_mode": {
    "name": "ipython",
    "version": 3
   },
   "file_extension": ".py",
   "mimetype": "text/x-python",
   "name": "python",
   "nbconvert_exporter": "python",
   "pygments_lexer": "ipython3",
   "version": "3.10.12"
  }
 },
 "nbformat": 4,
 "nbformat_minor": 5
}
